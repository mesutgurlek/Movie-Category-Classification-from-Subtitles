{
 "cells": [
  {
   "cell_type": "code",
   "execution_count": 107,
   "metadata": {
    "collapsed": false
   },
   "outputs": [
    {
     "name": "stdout",
     "output_type": "stream",
     "text": [
      "['(whispers)', '[sdas]'] <class 'list'>\n",
      "None\n",
      "[1, 2, 4, 6, 7]\n",
      "e\n"
     ]
    }
   ],
   "source": [
    "import re\n",
    "\n",
    "def filter_hearing_descriptions(line):\n",
    "    res = re.findall(r'(\\[.+\\]|\\(.+\\))' , line)\n",
    "    print(res, type(res))\n",
    "    if res:\n",
    "        pass\n",
    "    else:\n",
    "        return None\n",
    "print(filter_hearing_descriptions('sdsa (whispers) dasd sdsad [sdas]'))\n",
    "\n",
    "list1 = [1,2,4]\n",
    "list1.extend([6,7])\n",
    "list1.extend([])\n",
    "print(list1)\n",
    "x = \"mesut\"\n",
    "print(x[1:2])"
   ]
  }
 ],
 "metadata": {
  "anaconda-cloud": {},
  "kernelspec": {
   "display_name": "Python [conda root]",
   "language": "python",
   "name": "conda-root-py"
  },
  "language_info": {
   "codemirror_mode": {
    "name": "ipython",
    "version": 3.0
   },
   "file_extension": ".py",
   "mimetype": "text/x-python",
   "name": "python",
   "nbconvert_exporter": "python",
   "pygments_lexer": "ipython3",
   "version": "3.5.2"
  }
 },
 "nbformat": 4,
 "nbformat_minor": 0
}